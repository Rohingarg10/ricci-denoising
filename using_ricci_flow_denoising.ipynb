{
 "cells": [
  {
   "cell_type": "code",
   "execution_count": 1,
   "id": "edfbf3ac-bb05-47c1-b7c9-c8014d5f3148",
   "metadata": {},
   "outputs": [],
   "source": [
    "from ricci_flow_denoising import RicciFlowDenoising\n",
    "import numpy as np\n",
    "from PIL import Image"
   ]
  },
  {
   "cell_type": "code",
   "execution_count": 2,
   "id": "c129624b-64a8-44a9-a164-37ec552b652b",
   "metadata": {},
   "outputs": [],
   "source": [
    "image1 = np.array(Image.open('test1.jpg').convert('L'))\n",
    "image2 = np.array(Image.open('test2.jpg').convert('L'))\n",
    "image3 = np.array(Image.open('test3.jpg').convert('L'))\n",
    "image4 = np.array(Image.open('test4.jpg').convert('L'))\n",
    "image5 = np.array(Image.open('test5.jpg').convert('L'))\n",
    "image6 = np.array(Image.open('test6.jpg').convert('L'))\n",
    "\n",
    "images = {\n",
    "    1: image1,\n",
    "    2: image2,\n",
    "    3: image3,\n",
    "    4: image4,\n",
    "    5: image5,\n",
    "    6: image6\n",
    "}"
   ]
  },
  {
   "cell_type": "code",
   "execution_count": 3,
   "id": "ec076620-5e5b-415f-afca-11570dc7e755",
   "metadata": {},
   "outputs": [],
   "source": [
    "noisy = {}\n",
    "for i in range (1,7):\n",
    "    noisy[i] = images[i] + np.random.normal(0, 25, images[i].shape)\n",
    "    Image.fromarray(noisy[i].astype(np.uint8)).save(f'withnoise{i}.jpg')\n",
    "    "
   ]
  },
  {
   "cell_type": "code",
   "execution_count": 4,
   "id": "f4b1a602-c77b-4581-90df-57cf34ef2afc",
   "metadata": {},
   "outputs": [],
   "source": [
    "denoiser = RicciFlowDenoising(beta = 1.0, dt = 0.001, iterations = 7, alpha = 0.3)\n",
    "denoised_images = {}"
   ]
  },
  {
   "cell_type": "code",
   "execution_count": 5,
   "id": "62039c62-2fb1-4165-8c1d-803320ba6dbb",
   "metadata": {},
   "outputs": [
    {
     "name": "stdout",
     "output_type": "stream",
     "text": [
      "Ricci flow iteration 1/7\n",
      "Ricci flow iteration 2/7\n",
      "Ricci flow iteration 3/7\n",
      "Ricci flow iteration 4/7\n",
      "Ricci flow iteration 5/7\n",
      "Ricci flow iteration 6/7\n",
      "Ricci flow iteration 7/7\n",
      "1th image denoised\n",
      "Ricci flow iteration 1/7\n",
      "Ricci flow iteration 2/7\n",
      "Ricci flow iteration 3/7\n",
      "Ricci flow iteration 4/7\n",
      "Ricci flow iteration 5/7\n",
      "Ricci flow iteration 6/7\n",
      "Ricci flow iteration 7/7\n",
      "2th image denoised\n",
      "Ricci flow iteration 1/7\n"
     ]
    },
    {
     "ename": "KeyboardInterrupt",
     "evalue": "",
     "output_type": "error",
     "traceback": [
      "\u001b[1;31m---------------------------------------------------------------------------\u001b[0m",
      "\u001b[1;31mKeyboardInterrupt\u001b[0m                         Traceback (most recent call last)",
      "Cell \u001b[1;32mIn[5], line 2\u001b[0m\n\u001b[0;32m      1\u001b[0m \u001b[38;5;28;01mfor\u001b[39;00m i \u001b[38;5;129;01min\u001b[39;00m \u001b[38;5;28mrange\u001b[39m (\u001b[38;5;241m1\u001b[39m,\u001b[38;5;241m7\u001b[39m):\n\u001b[1;32m----> 2\u001b[0m     denoised \u001b[38;5;241m=\u001b[39m \u001b[43mdenoiser\u001b[49m\u001b[38;5;241;43m.\u001b[39;49m\u001b[43mdenoise\u001b[49m\u001b[43m(\u001b[49m\u001b[43mnoisy\u001b[49m\u001b[43m[\u001b[49m\u001b[43mi\u001b[49m\u001b[43m]\u001b[49m\u001b[43m)\u001b[49m\n\u001b[0;32m      4\u001b[0m     Image\u001b[38;5;241m.\u001b[39mfromarray(denoised\u001b[38;5;241m.\u001b[39mastype(np\u001b[38;5;241m.\u001b[39muint8))\u001b[38;5;241m.\u001b[39msave(\u001b[38;5;124mf\u001b[39m\u001b[38;5;124m'\u001b[39m\u001b[38;5;124mdenoised\u001b[39m\u001b[38;5;132;01m{\u001b[39;00mi\u001b[38;5;132;01m}\u001b[39;00m\u001b[38;5;124m.jpg\u001b[39m\u001b[38;5;124m'\u001b[39m)\n\u001b[0;32m      5\u001b[0m     \u001b[38;5;28mprint\u001b[39m(\u001b[38;5;124mf\u001b[39m\u001b[38;5;124m'\u001b[39m\u001b[38;5;132;01m{\u001b[39;00mi\u001b[38;5;132;01m}\u001b[39;00m\u001b[38;5;124mth image denoised\u001b[39m\u001b[38;5;124m'\u001b[39m)\n",
      "File \u001b[1;32mC:\\Rohin's files\\Scripting Projects\\Ricci Denoising\\ricci_flow_denoising.py:279\u001b[0m, in \u001b[0;36mRicciFlowDenoising.denoise\u001b[1;34m(self, noisy_image)\u001b[0m\n\u001b[0;32m    274\u001b[0m grad_x_filtered, grad_y_filtered \u001b[38;5;241m=\u001b[39m \u001b[38;5;28mself\u001b[39m\u001b[38;5;241m.\u001b[39mgaussian_filter_gradients(\n\u001b[0;32m    275\u001b[0m     grad_x_new, grad_y_new, sigma\u001b[38;5;241m=\u001b[39m\u001b[38;5;241m0.5\u001b[39m\n\u001b[0;32m    276\u001b[0m )\n\u001b[0;32m    278\u001b[0m \u001b[38;5;66;03m# Reconstruct image from evolved gradient field\u001b[39;00m\n\u001b[1;32m--> 279\u001b[0m reconstructed \u001b[38;5;241m=\u001b[39m \u001b[38;5;28;43mself\u001b[39;49m\u001b[38;5;241;43m.\u001b[39;49m\u001b[43mpoisson_solver\u001b[49m\u001b[43m(\u001b[49m\u001b[43mgrad_x_filtered\u001b[49m\u001b[43m,\u001b[49m\u001b[43m \u001b[49m\u001b[43mgrad_y_filtered\u001b[49m\u001b[43m)\u001b[49m\n\u001b[0;32m    281\u001b[0m \u001b[38;5;66;03m# Blend with original for stability (optional)\u001b[39;00m\n\u001b[0;32m    282\u001b[0m current_image \u001b[38;5;241m=\u001b[39m \u001b[38;5;28mself\u001b[39m\u001b[38;5;241m.\u001b[39malpha \u001b[38;5;241m*\u001b[39m reconstructed \u001b[38;5;241m+\u001b[39m (\u001b[38;5;241m1\u001b[39m \u001b[38;5;241m-\u001b[39m \u001b[38;5;28mself\u001b[39m\u001b[38;5;241m.\u001b[39malpha) \u001b[38;5;241m*\u001b[39m current_image\n",
      "File \u001b[1;32mC:\\Rohin's files\\Scripting Projects\\Ricci Denoising\\ricci_flow_denoising.py:214\u001b[0m, in \u001b[0;36mRicciFlowDenoising.poisson_solver\u001b[1;34m(self, grad_x, grad_y)\u001b[0m\n\u001b[0;32m    212\u001b[0m \u001b[38;5;28;01mif\u001b[39;00m j \u001b[38;5;241m>\u001b[39m \u001b[38;5;241m0\u001b[39m:\n\u001b[0;32m    213\u001b[0m     row\u001b[38;5;241m.\u001b[39mappend(current_idx)\n\u001b[1;32m--> 214\u001b[0m     col\u001b[38;5;241m.\u001b[39mappend(\u001b[43midx\u001b[49m\u001b[43m(\u001b[49m\u001b[43mi\u001b[49m\u001b[43m,\u001b[49m\u001b[43m \u001b[49m\u001b[43mj\u001b[49m\u001b[38;5;241;43m-\u001b[39;49m\u001b[38;5;241;43m1\u001b[39;49m\u001b[43m)\u001b[49m)\n\u001b[0;32m    215\u001b[0m     data\u001b[38;5;241m.\u001b[39mappend(\u001b[38;5;241m1\u001b[39m)\n\u001b[0;32m    216\u001b[0m \u001b[38;5;28;01mif\u001b[39;00m j \u001b[38;5;241m<\u001b[39m w\u001b[38;5;241m-\u001b[39m\u001b[38;5;241m1\u001b[39m:\n",
      "File \u001b[1;32mC:\\Rohin's files\\Scripting Projects\\Ricci Denoising\\ricci_flow_denoising.py:185\u001b[0m, in \u001b[0;36mRicciFlowDenoising.poisson_solver.<locals>.idx\u001b[1;34m(i, j)\u001b[0m\n\u001b[0;32m    182\u001b[0m col \u001b[38;5;241m=\u001b[39m []\n\u001b[0;32m    183\u001b[0m data \u001b[38;5;241m=\u001b[39m []\n\u001b[1;32m--> 185\u001b[0m \u001b[38;5;28;01mdef\u001b[39;00m\u001b[38;5;250m \u001b[39m\u001b[38;5;21midx\u001b[39m(i, j):\n\u001b[0;32m    186\u001b[0m     \u001b[38;5;28;01mreturn\u001b[39;00m i \u001b[38;5;241m*\u001b[39m w \u001b[38;5;241m+\u001b[39m j\n\u001b[0;32m    188\u001b[0m \u001b[38;5;28;01mfor\u001b[39;00m i \u001b[38;5;129;01min\u001b[39;00m \u001b[38;5;28mrange\u001b[39m(h):\n",
      "\u001b[1;31mKeyboardInterrupt\u001b[0m: "
     ]
    }
   ],
   "source": [
    "for i in range (1,7):\n",
    "    denoised = denoiser.denoise(noisy[i])\n",
    "\n",
    "    Image.fromarray(denoised.astype(np.uint8)).save(f'denoised{i}.jpg')\n",
    "    print(f'{i}th image denoised')"
   ]
  },
  {
   "cell_type": "code",
   "execution_count": null,
   "id": "8d31b600-febe-431e-b528-0d1823988e27",
   "metadata": {},
   "outputs": [],
   "source": []
  }
 ],
 "metadata": {
  "kernelspec": {
   "display_name": "Python 3 (ipykernel)",
   "language": "python",
   "name": "python3"
  },
  "language_info": {
   "codemirror_mode": {
    "name": "ipython",
    "version": 3
   },
   "file_extension": ".py",
   "mimetype": "text/x-python",
   "name": "python",
   "nbconvert_exporter": "python",
   "pygments_lexer": "ipython3",
   "version": "3.13.7"
  }
 },
 "nbformat": 4,
 "nbformat_minor": 5
}
